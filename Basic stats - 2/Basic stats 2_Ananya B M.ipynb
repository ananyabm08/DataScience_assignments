{
 "cells": [
  {
   "cell_type": "markdown",
   "id": "e3a6261f-0139-4284-9868-04facc30490f",
   "metadata": {},
   "source": [
    "# Estimation and Confidence Intervals"
   ]
  },
  {
   "cell_type": "markdown",
   "id": "4c240aec-c48d-48a4-8acd-c251ea3e8173",
   "metadata": {},
   "source": [
    "### A manufacturer of print-heads for personal computers is interested in estimating the mean durability of their print-heads in terms of the number of characters printed before failure. To assess this, the manufacturer conducts a study on a small sample of print-heads due to the destructive nature of the testing process."
   ]
  },
  {
   "cell_type": "markdown",
   "id": "1ac19f8c-b25b-4374-9c31-cb5c8b0f19e4",
   "metadata": {},
   "source": [
    "#### A total of 15 print-heads were randomly selected and tested until failure. The durability of each print-head (in millions of characters) was recorded as follows:\n",
    "1.13, 1.55, 1.43, 0.92, 1.25, 1.36, 1.32, 0.85, 1.07, 1.48, 1.20, 1.33, 1.18, 1.22, 1.29\n",
    "\n",
    "- a. 99% Confidence Interval Using Sample Standard Deviation\n",
    "- b. 99% Confidence Interval Using Known Population Standard Deviation"
   ]
  },
  {
   "cell_type": "code",
   "execution_count": 4,
   "id": "2c6f4996-58ae-4ff1-9740-dd75f2eabc7f",
   "metadata": {},
   "outputs": [],
   "source": [
    "import pandas as pd\n",
    "import numpy as np\n",
    "import matplotlib.pyplot as plt\n",
    "from scipy import stats"
   ]
  },
  {
   "cell_type": "code",
   "execution_count": 5,
   "id": "c6854886-76ef-479f-bf5d-8cb073103bf0",
   "metadata": {},
   "outputs": [
    {
     "name": "stdout",
     "output_type": "stream",
     "text": [
      "[1.13, 1.55, 1.43, 0.92, 1.25, 1.36, 1.32, 0.85, 1.07, 1.48, 1.2, 1.33, 1.18, 1.22, 1.29]\n"
     ]
    }
   ],
   "source": [
    "data=[1.13, 1.55, 1.43, 0.92, 1.25, 1.36, 1.32, 0.85, 1.07, 1.48, 1.20, 1.33, 1.18, 1.22, 1.29]\n",
    "print(data)"
   ]
  },
  {
   "cell_type": "markdown",
   "id": "b7fdafd4-f352-448c-9c76-6cff8423a0a9",
   "metadata": {},
   "source": [
    "## (A)"
   ]
  },
  {
   "cell_type": "code",
   "execution_count": 7,
   "id": "83549493-17f9-45a8-ad7b-67ede531acd2",
   "metadata": {},
   "outputs": [],
   "source": [
    "# using T Distribution because \n",
    "# 1) pop std dev is unknown\n",
    "# 2) Sample Size is <30\n",
    "n = len(data)\n",
    "\n",
    "sample_mean = np.mean(data)\n",
    "sample_std = np.std(data, ddof=1) #std dev using ddof=1, which means it calculates the sample std dev (not population)\n",
    "\n",
    "confidence = 0.99\n",
    "alpha = 0.01\n",
    "df = n-1\n",
    "\n",
    "# t-critical value\n",
    "t_critical = stats.t.ppf(1 - alpha/2, df)"
   ]
  },
  {
   "cell_type": "code",
   "execution_count": 8,
   "id": "538edc6b-55ce-433c-b510-ec42551b2473",
   "metadata": {},
   "outputs": [
    {
     "name": "stdout",
     "output_type": "stream",
     "text": [
      "1.2386666666666666\n",
      "0.19316412956959936\n",
      "2.976842734370834\n"
     ]
    }
   ],
   "source": [
    "print(sample_mean)\n",
    "print(sample_std)\n",
    "print(t_critical)"
   ]
  },
  {
   "cell_type": "code",
   "execution_count": 9,
   "id": "a847e4f8-e3d7-47a1-b88b-bfe0230fa407",
   "metadata": {},
   "outputs": [
    {
     "data": {
      "text/plain": [
       "0.14846932822817596"
      ]
     },
     "execution_count": 9,
     "metadata": {},
     "output_type": "execute_result"
    }
   ],
   "source": [
    "#Margin of Error\n",
    "margin_error = t_critical * (sample_std / np.sqrt(n))\n",
    "margin_error"
   ]
  },
  {
   "cell_type": "code",
   "execution_count": 10,
   "id": "fcc64328-a7fe-4ce4-9d6b-8c0e738798e2",
   "metadata": {},
   "outputs": [],
   "source": [
    "# confidence Interval\n",
    "ci_lower = sample_mean - margin_error\n",
    "ci_upper = sample_mean + margin_error"
   ]
  },
  {
   "cell_type": "code",
   "execution_count": 11,
   "id": "064ce728-ab30-4ae8-bc80-83f5ca31e328",
   "metadata": {},
   "outputs": [
    {
     "data": {
      "text/plain": [
       "(1.0901973384384906, 1.3871359948948425)"
      ]
     },
     "execution_count": 11,
     "metadata": {},
     "output_type": "execute_result"
    }
   ],
   "source": [
    "# Confidence interval using sample standard deviation\n",
    "CI_sample = (ci_lower, ci_upper)\n",
    "CI_sample"
   ]
  },
  {
   "cell_type": "code",
   "execution_count": 13,
   "id": "08ce58ac-821c-42ad-b710-2d6b92fbba3b",
   "metadata": {},
   "outputs": [
    {
     "data": {
      "text/plain": [
       "(1.2386666666666666, 1.09, 1.387)"
      ]
     },
     "execution_count": 13,
     "metadata": {},
     "output_type": "execute_result"
    }
   ],
   "source": [
    "(sample_mean, round(ci_lower, 3), round(ci_upper, 3))"
   ]
  },
  {
   "cell_type": "markdown",
   "id": "5952ffcc-82c0-4888-85fd-a5bf6ad1c807",
   "metadata": {},
   "source": [
    "## (B)"
   ]
  },
  {
   "cell_type": "code",
   "execution_count": 15,
   "id": "3cd51837-8eb6-44fe-a435-cdb8e914eba3",
   "metadata": {},
   "outputs": [],
   "source": [
    "# If the population standard deviation (σ) is known, we can use the z-distribution, even for small samples."
   ]
  },
  {
   "cell_type": "code",
   "execution_count": 16,
   "id": "232ed16c-f5e7-435d-9edb-cc0cf33fb15f",
   "metadata": {},
   "outputs": [],
   "source": [
    "pop_std = 0.2"
   ]
  },
  {
   "cell_type": "code",
   "execution_count": 17,
   "id": "773d8c99-8367-4b9b-9e1e-1625e48a72bc",
   "metadata": {},
   "outputs": [
    {
     "data": {
      "text/plain": [
       "2.5758293035489004"
      ]
     },
     "execution_count": 17,
     "metadata": {},
     "output_type": "execute_result"
    }
   ],
   "source": [
    "z_critical = stats.norm.ppf(1 - alpha/2)\n",
    "z_critical"
   ]
  },
  {
   "cell_type": "code",
   "execution_count": 18,
   "id": "0cde9335-c215-4f6a-b1e2-8e6097f00f3e",
   "metadata": {},
   "outputs": [
    {
     "data": {
      "text/plain": [
       "0.13301525327090588"
      ]
     },
     "execution_count": 18,
     "metadata": {},
     "output_type": "execute_result"
    }
   ],
   "source": [
    "# Margin of error\n",
    "margin_error_z = z_critical * (pop_std / np.sqrt(n))\n",
    "margin_error_z"
   ]
  },
  {
   "cell_type": "code",
   "execution_count": 19,
   "id": "ac8b5375-e508-4da6-b3ea-3f6b947f0bbd",
   "metadata": {},
   "outputs": [],
   "source": [
    "# Confidence Interval\n",
    "ci_lower_z = sample_mean - margin_error_z\n",
    "ci_upper_z = sample_mean + margin_error_z"
   ]
  },
  {
   "cell_type": "code",
   "execution_count": 23,
   "id": "51eb000f-089a-4941-8b61-103fd7939430",
   "metadata": {},
   "outputs": [
    {
     "data": {
      "text/plain": [
       "(1.1056514133957607, 1.3716819199375725)"
      ]
     },
     "execution_count": 23,
     "metadata": {},
     "output_type": "execute_result"
    }
   ],
   "source": [
    "# Confidence interval using population standard deviation\n",
    "CI_sample_z = (ci_lower_z, ci_upper_z)\n",
    "CI_sample_z"
   ]
  },
  {
   "cell_type": "code",
   "execution_count": 20,
   "id": "3a955ec2-d517-4501-830a-1a54d9ab14a3",
   "metadata": {},
   "outputs": [
    {
     "data": {
      "text/plain": [
       "(1.2386666666666666, 1.106, 1.372)"
      ]
     },
     "execution_count": 20,
     "metadata": {},
     "output_type": "execute_result"
    }
   ],
   "source": [
    "(sample_mean, round(ci_lower_z, 3), round(ci_upper_z, 3))"
   ]
  },
  {
   "cell_type": "markdown",
   "id": "74a7c9f9-eca4-455a-9d89-4052bf7f82aa",
   "metadata": {},
   "source": [
    "# Conclusion"
   ]
  },
  {
   "cell_type": "raw",
   "id": "f9d23a8b-b8dd-4720-978b-29cecdf3d27a",
   "metadata": {},
   "source": [
    "- With sample std (t-distribution) → Wider CI due to more uncertainty: (1.10, 1.39)\n",
    "- With known pop std (z-distribution) → Narrower CI: (1.13, 1.36)"
   ]
  },
  {
   "cell_type": "code",
   "execution_count": null,
   "id": "329bd97b-151a-4d90-89be-2d55ca0f7cea",
   "metadata": {},
   "outputs": [],
   "source": []
  }
 ],
 "metadata": {
  "kernelspec": {
   "display_name": "Python [conda env:base] *",
   "language": "python",
   "name": "conda-base-py"
  },
  "language_info": {
   "codemirror_mode": {
    "name": "ipython",
    "version": 3
   },
   "file_extension": ".py",
   "mimetype": "text/x-python",
   "name": "python",
   "nbconvert_exporter": "python",
   "pygments_lexer": "ipython3",
   "version": "3.12.4"
  }
 },
 "nbformat": 4,
 "nbformat_minor": 5
}
