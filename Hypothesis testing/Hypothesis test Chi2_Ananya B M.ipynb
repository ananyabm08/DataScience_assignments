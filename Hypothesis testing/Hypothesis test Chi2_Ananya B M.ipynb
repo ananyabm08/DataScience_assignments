{
 "cells": [
  {
   "cell_type": "markdown",
   "id": "eaa51f88-1411-45e9-ba2f-e52c5e364924",
   "metadata": {},
   "source": [
    "# Chi-Square Test"
   ]
  },
  {
   "cell_type": "markdown",
   "id": "e38b7029-8a1a-4900-a36e-4d3089f9b3b9",
   "metadata": {},
   "source": [
    "### Mizzare Corporation has collected data on customer satisfaction levels for two types of smart home devices: Smart Thermostats and Smart Lights. They want to determine if there's a significant association between the type of device purchased and the customer's satisfaction level."
   ]
  },
  {
   "cell_type": "markdown",
   "id": "a355fd76-fcd6-4e04-bb00-789638dc9096",
   "metadata": {},
   "source": [
    "### 1. State the Hypotheses:"
   ]
  },
  {
   "cell_type": "code",
   "execution_count": 4,
   "id": "ecebeaf6-7d2e-4ee9-8826-f89b33ea4f3b",
   "metadata": {},
   "outputs": [],
   "source": [
    "# H0 - Device type and customer satisfaction are independent (no relationship)\n",
    "# Ha = Device type and customer satisfaction are associate (there is relationship)"
   ]
  },
  {
   "cell_type": "markdown",
   "id": "42037a32-0f79-47a8-b457-b931226d3847",
   "metadata": {},
   "source": [
    "### 2. Compute the Chi-Square Statistic:"
   ]
  },
  {
   "cell_type": "code",
   "execution_count": 6,
   "id": "dfd8172d-c76f-404a-ab85-7acc80b1efbb",
   "metadata": {},
   "outputs": [],
   "source": [
    "import numpy as np\n",
    "import pandas as pd\n",
    "from scipy import stats\n",
    "from scipy.stats import chi2_contingency"
   ]
  },
  {
   "cell_type": "code",
   "execution_count": 7,
   "id": "fe882207-3fd8-4346-8aae-dd8f7c6a08c0",
   "metadata": {},
   "outputs": [
    {
     "data": {
      "text/plain": [
       "array([[ 50,  70],\n",
       "       [ 80, 100],\n",
       "       [ 60,  90],\n",
       "       [ 30,  50],\n",
       "       [ 20,  50]])"
      ]
     },
     "execution_count": 7,
     "metadata": {},
     "output_type": "execute_result"
    }
   ],
   "source": [
    "## observed frequency table --> [Rows - Satisfaction level, Col - Device Types\n",
    "\n",
    "data = np.array([\n",
    "    [50, 70],   # Very Satisfied\n",
    "    [80, 100],  # Satisfied\n",
    "    [60, 90],   # Neutral\n",
    "    [30, 50],   # Unsatisfied\n",
    "    [20, 50]    # Very Unsatisfied\n",
    "])\n",
    "data"
   ]
  },
  {
   "cell_type": "code",
   "execution_count": 8,
   "id": "67e9a7b3-5fff-4b9b-b351-8facc9e2af57",
   "metadata": {},
   "outputs": [
    {
     "data": {
      "text/html": [
       "<div>\n",
       "<style scoped>\n",
       "    .dataframe tbody tr th:only-of-type {\n",
       "        vertical-align: middle;\n",
       "    }\n",
       "\n",
       "    .dataframe tbody tr th {\n",
       "        vertical-align: top;\n",
       "    }\n",
       "\n",
       "    .dataframe thead th {\n",
       "        text-align: right;\n",
       "    }\n",
       "</style>\n",
       "<table border=\"1\" class=\"dataframe\">\n",
       "  <thead>\n",
       "    <tr style=\"text-align: right;\">\n",
       "      <th></th>\n",
       "      <th>Smart Thermostat</th>\n",
       "      <th>Smart Light</th>\n",
       "    </tr>\n",
       "  </thead>\n",
       "  <tbody>\n",
       "    <tr>\n",
       "      <th>Very Satisfied</th>\n",
       "      <td>50</td>\n",
       "      <td>70</td>\n",
       "    </tr>\n",
       "    <tr>\n",
       "      <th>Satisfied</th>\n",
       "      <td>80</td>\n",
       "      <td>100</td>\n",
       "    </tr>\n",
       "    <tr>\n",
       "      <th>Neutral</th>\n",
       "      <td>60</td>\n",
       "      <td>90</td>\n",
       "    </tr>\n",
       "    <tr>\n",
       "      <th>Unsatisfied</th>\n",
       "      <td>30</td>\n",
       "      <td>50</td>\n",
       "    </tr>\n",
       "    <tr>\n",
       "      <th>Very Satisfied</th>\n",
       "      <td>20</td>\n",
       "      <td>50</td>\n",
       "    </tr>\n",
       "  </tbody>\n",
       "</table>\n",
       "</div>"
      ],
      "text/plain": [
       "                Smart Thermostat  Smart Light\n",
       "Very Satisfied                50           70\n",
       "Satisfied                     80          100\n",
       "Neutral                       60           90\n",
       "Unsatisfied                   30           50\n",
       "Very Satisfied                20           50"
      ]
     },
     "execution_count": 8,
     "metadata": {},
     "output_type": "execute_result"
    }
   ],
   "source": [
    "df = pd.DataFrame(data,\n",
    "                 columns = [\"Smart Thermostat\", \"Smart Light\"],\n",
    "                 index = ['Very Satisfied', 'Satisfied', 'Neutral', 'Unsatisfied', 'Very Satisfied'])\n",
    "df"
   ]
  },
  {
   "cell_type": "code",
   "execution_count": 9,
   "id": "12e626f7-a145-4895-bfe9-6707003f5a5d",
   "metadata": {},
   "outputs": [
    {
     "name": "stdout",
     "output_type": "stream",
     "text": [
      "Chi-Square Statistics:  5.638227513227513 \n",
      "P-Value:  0.22784371130697179 \n",
      "Degree of Freedom:  4 \n",
      " \n",
      "Expected Frequencies: \n",
      " [[ 48.  72.]\n",
      " [ 72. 108.]\n",
      " [ 60.  90.]\n",
      " [ 32.  48.]\n",
      " [ 28.  42.]]\n"
     ]
    }
   ],
   "source": [
    "# Chi Square Test\n",
    "chi2_stat, p_val, dof, expected = chi2_contingency(df)\n",
    "print('Chi-Square Statistics: ',chi2_stat, '\\n'\n",
    "      'P-Value: ', p_val, '\\n'\n",
    "      'Degree of Freedom: ', dof, '\\n \\n'\n",
    "      'Expected Frequencies: \\n', expected,)"
   ]
  },
  {
   "cell_type": "markdown",
   "id": "d67c9474-2e5f-422b-84a3-3ee66fda872e",
   "metadata": {},
   "source": [
    "### 3. Determine the Critical Value:\n",
    "- Using the significance level (alpha) of 0.05 and the degrees of freedom (which is the number of categories minus 1)"
   ]
  },
  {
   "cell_type": "code",
   "execution_count": 11,
   "id": "2e6a8640-a52b-4c71-84f5-e8e6e305d9af",
   "metadata": {},
   "outputs": [],
   "source": [
    "from scipy.stats import chi2"
   ]
  },
  {
   "cell_type": "code",
   "execution_count": 12,
   "id": "4a7d9102-48d2-46a4-a1ad-0e420bd51fb5",
   "metadata": {},
   "outputs": [
    {
     "data": {
      "text/plain": [
       "9.487729036781154"
      ]
     },
     "execution_count": 12,
     "metadata": {},
     "output_type": "execute_result"
    }
   ],
   "source": [
    "alpha = 0.05\n",
    "critical_value = chi2.ppf(1 - alpha, dof)\n",
    "critical_value"
   ]
  },
  {
   "cell_type": "markdown",
   "id": "54a7bead-35b3-4c03-9ed0-ec081ebb8d23",
   "metadata": {},
   "source": [
    "### 4. Make a Decision:\n",
    "- Compare the Chi-Square statistic with the critical value to decide whether to reject the null hypothesis."
   ]
  },
  {
   "cell_type": "code",
   "execution_count": 14,
   "id": "0264233e-43db-46eb-a2ee-6bb00fddd56d",
   "metadata": {},
   "outputs": [
    {
     "name": "stdout",
     "output_type": "stream",
     "text": [
      "Conclusion: Fail to reject the null hypothesis (Ha). No significant association.\n"
     ]
    }
   ],
   "source": [
    "if chi2_stat > critical_value:\n",
    "    print(\"Conclusion: Reject the null hypothesis (H0). There is a significant association.\")\n",
    "else:\n",
    "    print(\"Conclusion: Fail to reject the null hypothesis (Ha). No significant association.\")"
   ]
  },
  {
   "cell_type": "code",
   "execution_count": null,
   "id": "8ed94f82-96a3-4fc5-b447-6b77913c3663",
   "metadata": {},
   "outputs": [],
   "source": []
  }
 ],
 "metadata": {
  "kernelspec": {
   "display_name": "Python [conda env:base] *",
   "language": "python",
   "name": "conda-base-py"
  },
  "language_info": {
   "codemirror_mode": {
    "name": "ipython",
    "version": 3
   },
   "file_extension": ".py",
   "mimetype": "text/x-python",
   "name": "python",
   "nbconvert_exporter": "python",
   "pygments_lexer": "ipython3",
   "version": "3.12.4"
  }
 },
 "nbformat": 4,
 "nbformat_minor": 5
}
