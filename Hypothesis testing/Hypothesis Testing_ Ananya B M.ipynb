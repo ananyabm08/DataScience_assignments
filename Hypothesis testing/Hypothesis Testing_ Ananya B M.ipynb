{
 "cells": [
  {
   "cell_type": "markdown",
   "id": "20ea3fc9-a760-44be-ab34-d16b4395a18b",
   "metadata": {},
   "source": [
    "## Bombay hospitality Ltd. operates a franchise model for producing exotic Norwegian dinners throughout New England. The operating cost for a franchise in a week (W) is given by the equation W = $1,000 + $5X, where X represents the number of units produced in a week. Recent feedback from restaurant owners suggests that this cost model may no longer be accurate, as their observed weekly operating costs are higher."
   ]
  },
  {
   "cell_type": "markdown",
   "id": "24313a10-5510-48eb-b161-fb5da3d77bba",
   "metadata": {},
   "source": [
    "# 1. State the Hypotheses statement:"
   ]
  },
  {
   "cell_type": "code",
   "execution_count": 3,
   "id": "dab1d4af-c355-425d-bfdb-1ab583adf662",
   "metadata": {},
   "outputs": [],
   "source": [
    "# Theoretical weekly cost ---> mean = 1000 + 5 x 600 (X - numb of units produced) = 4000\n",
    "# Sample mean weekly cost ---> x_bar = 3050"
   ]
  },
  {
   "cell_type": "code",
   "execution_count": 4,
   "id": "d583f99a-e256-46d5-b9db-0c29d07f7edc",
   "metadata": {},
   "outputs": [],
   "source": [
    "# H0 - true mean weekly cost is Rs 4000\n",
    "# Ha - true mean weekly cost is greater than Rs 4000"
   ]
  },
  {
   "cell_type": "markdown",
   "id": "65040a08-f2fd-4c98-b171-45d943c57fc9",
   "metadata": {},
   "source": [
    "# 2. Calculate the Test Statistic:\n",
    "\n",
    "Use the following formula to calculate the test statistic (t):\n",
    "\n",
    "where:\n",
    "- ˉxˉ = sample mean weekly cost (Rs. 3,050)\n",
    "-\tμ = theoretical mean weekly cost according to the cost model (W = $1,000 + $5X for X = 600 units)\n",
    "-\tσ = 5*25 units\n",
    "-\tn = sample size (25 restaurants)\n"
   ]
  },
  {
   "cell_type": "code",
   "execution_count": 6,
   "id": "639a58a0-de5d-484f-9e99-59b9cd77e7fb",
   "metadata": {},
   "outputs": [],
   "source": [
    "import numpy as np\n",
    "from scipy import stats"
   ]
  },
  {
   "cell_type": "code",
   "execution_count": 7,
   "id": "af5ab1ec-3d05-4614-bc1d-c6f68082f05a",
   "metadata": {},
   "outputs": [],
   "source": [
    "# given data\n",
    "x_bar = 3050\n",
    "mu = 4000\n",
    "sigma = 5 * 25\n",
    "n = 25"
   ]
  },
  {
   "cell_type": "code",
   "execution_count": 8,
   "id": "8989afee-49a8-4a13-82a5-259f8556c323",
   "metadata": {},
   "outputs": [
    {
     "data": {
      "text/plain": [
       "25.0"
      ]
     },
     "execution_count": 8,
     "metadata": {},
     "output_type": "execute_result"
    }
   ],
   "source": [
    "# Standard Error of the Mean\n",
    "sem = sigma / np.sqrt(n)\n",
    "sem"
   ]
  },
  {
   "cell_type": "code",
   "execution_count": 9,
   "id": "3b7d485d-ccf6-4dd6-a06a-5c8bc53e0e59",
   "metadata": {},
   "outputs": [
    {
     "data": {
      "text/plain": [
       "-38.0"
      ]
     },
     "execution_count": 9,
     "metadata": {},
     "output_type": "execute_result"
    }
   ],
   "source": [
    "# calculation of test statistic (z value)\n",
    "z_stat = (x_bar - mu) / ( sigma / np.sqrt(n))\n",
    "z_stat"
   ]
  },
  {
   "cell_type": "markdown",
   "id": "6fcbdb8b-af0a-4c22-93cd-0e4137454e2e",
   "metadata": {},
   "source": [
    "#  3. Determine the Critical Value"
   ]
  },
  {
   "cell_type": "code",
   "execution_count": 11,
   "id": "58904d98-7c95-4e83-96e5-db18974cdc73",
   "metadata": {},
   "outputs": [
    {
     "data": {
      "text/plain": [
       "1.6448536269514722"
      ]
     },
     "execution_count": 11,
     "metadata": {},
     "output_type": "execute_result"
    }
   ],
   "source": [
    "alpha = 0.05\n",
    "z_critical = stats.norm.ppf(1 - alpha)\n",
    "z_critical"
   ]
  },
  {
   "cell_type": "markdown",
   "id": "a69bd69c-88c5-4528-9401-5fd94af8d300",
   "metadata": {},
   "source": [
    "# 4. Make a Decision"
   ]
  },
  {
   "cell_type": "code",
   "execution_count": 13,
   "id": "a5ab4127-e121-451c-a88c-c5ab69182531",
   "metadata": {},
   "outputs": [
    {
     "name": "stdout",
     "output_type": "stream",
     "text": [
      "Decision: Fail to reject the null hypothesis (H₀)\n"
     ]
    }
   ],
   "source": [
    "if z_stat > z_critical:\n",
    "    decision = \"Reject the null hypothesis (H₀)\"\n",
    "else:\n",
    "    decision = \"Fail to reject the null hypothesis (H₀)\"\n",
    "\n",
    "print(\"Decision:\",decision)"
   ]
  },
  {
   "cell_type": "markdown",
   "id": "4933e0d2-9218-4b5d-b655-18ae9060bc64",
   "metadata": {},
   "source": [
    "# 5.Conclusion"
   ]
  },
  {
   "cell_type": "code",
   "execution_count": 15,
   "id": "b6775f9f-6f8a-48b4-b8e3-ee25a81b7d59",
   "metadata": {},
   "outputs": [
    {
     "name": "stdout",
     "output_type": "stream",
     "text": [
      "Conclusion: There is not enough evidence to support the claim that actual costs are higher than predicted by the model.\n"
     ]
    }
   ],
   "source": [
    "\n",
    "if z_stat > z_critical:\n",
    "    print(\"Conclusion: There is strong statistical evidence to support the claim that actual weekly operating costs are higher than the theoretical model predicts.\")\n",
    "else:\n",
    "    print(\"Conclusion: There is not enough evidence to support the claim that actual costs are higher than predicted by the model.\")\n"
   ]
  },
  {
   "cell_type": "code",
   "execution_count": null,
   "id": "e64b87ad-a410-4a8c-bef8-d981964e6fb2",
   "metadata": {},
   "outputs": [],
   "source": []
  }
 ],
 "metadata": {
  "kernelspec": {
   "display_name": "Python [conda env:base] *",
   "language": "python",
   "name": "conda-base-py"
  },
  "language_info": {
   "codemirror_mode": {
    "name": "ipython",
    "version": 3
   },
   "file_extension": ".py",
   "mimetype": "text/x-python",
   "name": "python",
   "nbconvert_exporter": "python",
   "pygments_lexer": "ipython3",
   "version": "3.12.4"
  }
 },
 "nbformat": 4,
 "nbformat_minor": 5
}
