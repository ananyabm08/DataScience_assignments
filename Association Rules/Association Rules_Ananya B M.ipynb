{
 "cells": [
  {
   "cell_type": "markdown",
   "id": "90ecf936-6c8e-4f7e-8548-733ee75e8615",
   "metadata": {},
   "source": [
    "# ASSOCIATION RULES"
   ]
  },
  {
   "cell_type": "code",
   "execution_count": 2,
   "id": "40ef0f79-af87-43e9-84e0-0d7907ef2dc3",
   "metadata": {},
   "outputs": [],
   "source": [
    "import pandas as pd\n",
    "import numpy as np\n",
    "import matplotlib.pyplot as plt\n",
    "import seaborn as sns\n",
    "from mlxtend.frequent_patterns import association_rules,apriori\n",
    "\n",
    "import warnings\n",
    "warnings.filterwarnings('ignore')"
   ]
  },
  {
   "cell_type": "code",
   "execution_count": 3,
   "id": "395ad79b-1bcb-4b32-b017-fdb73644d201",
   "metadata": {},
   "outputs": [
    {
     "data": {
      "text/html": [
       "<div>\n",
       "<style scoped>\n",
       "    .dataframe tbody tr th:only-of-type {\n",
       "        vertical-align: middle;\n",
       "    }\n",
       "\n",
       "    .dataframe tbody tr th {\n",
       "        vertical-align: top;\n",
       "    }\n",
       "\n",
       "    .dataframe thead th {\n",
       "        text-align: right;\n",
       "    }\n",
       "</style>\n",
       "<table border=\"1\" class=\"dataframe\">\n",
       "  <thead>\n",
       "    <tr style=\"text-align: right;\">\n",
       "      <th></th>\n",
       "      <th>Items</th>\n",
       "    </tr>\n",
       "  </thead>\n",
       "  <tbody>\n",
       "    <tr>\n",
       "      <th>0</th>\n",
       "      <td>burgers,meatballs,eggs</td>\n",
       "    </tr>\n",
       "    <tr>\n",
       "      <th>1</th>\n",
       "      <td>chutney</td>\n",
       "    </tr>\n",
       "    <tr>\n",
       "      <th>2</th>\n",
       "      <td>turkey,avocado</td>\n",
       "    </tr>\n",
       "    <tr>\n",
       "      <th>3</th>\n",
       "      <td>mineral water,milk,energy bar,whole wheat rice...</td>\n",
       "    </tr>\n",
       "    <tr>\n",
       "      <th>4</th>\n",
       "      <td>low fat yogurt</td>\n",
       "    </tr>\n",
       "  </tbody>\n",
       "</table>\n",
       "</div>"
      ],
      "text/plain": [
       "                                               Items\n",
       "0                             burgers,meatballs,eggs\n",
       "1                                            chutney\n",
       "2                                     turkey,avocado\n",
       "3  mineral water,milk,energy bar,whole wheat rice...\n",
       "4                                     low fat yogurt"
      ]
     },
     "execution_count": 3,
     "metadata": {},
     "output_type": "execute_result"
    }
   ],
   "source": [
    "#Load dataset\n",
    "df = pd.read_excel('Online retail.xlsx')\n",
    "df.columns = ['Items']\n",
    "df.head()"
   ]
  },
  {
   "cell_type": "code",
   "execution_count": 4,
   "id": "d304838f-52f8-4526-83ab-1279c0941734",
   "metadata": {},
   "outputs": [
    {
     "name": "stdout",
     "output_type": "stream",
     "text": [
      "<class 'pandas.core.frame.DataFrame'>\n",
      "RangeIndex: 7500 entries, 0 to 7499\n",
      "Data columns (total 1 columns):\n",
      " #   Column  Non-Null Count  Dtype \n",
      "---  ------  --------------  ----- \n",
      " 0   Items   7500 non-null   object\n",
      "dtypes: object(1)\n",
      "memory usage: 58.7+ KB\n"
     ]
    }
   ],
   "source": [
    "df.info()"
   ]
  },
  {
   "cell_type": "code",
   "execution_count": 5,
   "id": "194bb806-f158-4a49-a683-0547ff6a7135",
   "metadata": {},
   "outputs": [
    {
     "data": {
      "text/plain": [
       "Items    0\n",
       "dtype: int64"
      ]
     },
     "execution_count": 5,
     "metadata": {},
     "output_type": "execute_result"
    }
   ],
   "source": [
    "df.isnull().sum()"
   ]
  },
  {
   "cell_type": "code",
   "execution_count": 6,
   "id": "73a0ed72-3147-4a74-a6e5-8e0d8da46cb4",
   "metadata": {},
   "outputs": [
    {
     "data": {
      "text/plain": [
       "(7500, 1)"
      ]
     },
     "execution_count": 6,
     "metadata": {},
     "output_type": "execute_result"
    }
   ],
   "source": [
    "df.shape"
   ]
  },
  {
   "cell_type": "markdown",
   "id": "3c021a05-b126-4f45-8dfd-8c96f8586b97",
   "metadata": {},
   "source": [
    "# Preparing a new dataset"
   ]
  },
  {
   "cell_type": "code",
   "execution_count": 8,
   "id": "ef770c53-8b4b-4db6-8e34-1643f76f96ed",
   "metadata": {},
   "outputs": [
    {
     "data": {
      "text/plain": [
       "0                              [burgers, meatballs, eggs]\n",
       "1                                               [chutney]\n",
       "2                                       [turkey, avocado]\n",
       "3       [mineral water, milk, energy bar, whole wheat ...\n",
       "4                                        [low fat yogurt]\n",
       "                              ...                        \n",
       "7495                    [butter, light mayo, fresh bread]\n",
       "7496    [burgers, frozen vegetables, eggs, french frie...\n",
       "7497                                            [chicken]\n",
       "7498                                [escalope, green tea]\n",
       "7499    [eggs, frozen smoothie, yogurt cake, low fat y...\n",
       "Name: Items, Length: 7500, dtype: object"
      ]
     },
     "execution_count": 8,
     "metadata": {},
     "output_type": "execute_result"
    }
   ],
   "source": [
    "# Convert each transaction (comma-separated items) into a list\n",
    "transactions = df[df.columns[0]].dropna().apply(lambda x: x.split(','))\n",
    "\n",
    "# Preview first few transactions\n",
    "transactions"
   ]
  },
  {
   "cell_type": "code",
   "execution_count": 9,
   "id": "f60b0122-831a-41e9-9e67-a878c273f113",
   "metadata": {},
   "outputs": [
    {
     "name": "stdout",
     "output_type": "stream",
     "text": [
      "[' asparagus', 'almonds', 'antioxydant juice', 'asparagus', 'avocado', 'babies food', 'bacon', 'barbecue sauce', 'black tea', 'blueberries', 'body spray', 'bramble', 'brownies', 'bug spray', 'burger sauce', 'burgers', 'butter', 'cake', 'candy bars', 'carrots', 'cauliflower', 'cereals', 'champagne', 'chicken', 'chili', 'chocolate', 'chocolate bread', 'chutney', 'cider', 'clothes accessories', 'cookies', 'cooking oil', 'corn', 'cottage cheese', 'cream', 'dessert wine', 'eggplant', 'eggs', 'energy bar', 'energy drink', 'escalope', 'extra dark chocolate', 'flax seed', 'french fries', 'french wine', 'fresh bread', 'fresh tuna', 'fromage blanc', 'frozen smoothie', 'frozen vegetables', 'gluten free bar', 'grated cheese', 'green beans', 'green grapes', 'green tea', 'ground beef', 'gums', 'ham', 'hand protein bar', 'herb & pepper', 'honey', 'hot dogs', 'ketchup', 'light cream', 'light mayo', 'low fat yogurt', 'magazines', 'mashed potato', 'mayonnaise', 'meatballs', 'melons', 'milk', 'mineral water', 'mint', 'mint green tea', 'muffins', 'mushroom cream sauce', 'napkins', 'nonfat milk', 'oatmeal', 'oil', 'olive oil', 'pancakes', 'parmesan cheese', 'pasta', 'pepper', 'pet food', 'pickles', 'protein bar', 'red wine', 'rice', 'salad', 'salmon', 'salt', 'sandwich', 'shallot', 'shampoo', 'shrimp', 'soda', 'soup', 'spaghetti', 'sparkling water', 'spinach', 'strawberries', 'strong cheese', 'tea', 'tomato juice', 'tomato sauce', 'tomatoes', 'toothpaste', 'turkey', 'vegetables mix', 'water spray', 'white wine', 'whole weat flour', 'whole wheat pasta', 'whole wheat rice', 'yams', 'yogurt cake', 'zucchini']\n"
     ]
    }
   ],
   "source": [
    "# Get the unique items in all transactions\n",
    "unique_items = sorted(list(set(item for transaction in transactions for item in transaction)))\n",
    "print(unique_items)"
   ]
  },
  {
   "cell_type": "code",
   "execution_count": 10,
   "id": "531c37e8-0e7c-441c-9636-b6de2f0d0d4a",
   "metadata": {},
   "outputs": [
    {
     "data": {
      "text/plain": [
       "120"
      ]
     },
     "execution_count": 10,
     "metadata": {},
     "output_type": "execute_result"
    }
   ],
   "source": [
    "len(unique_items)"
   ]
  },
  {
   "cell_type": "code",
   "execution_count": 11,
   "id": "c5074465-bec6-432a-9352-5cf62c3fa21a",
   "metadata": {},
   "outputs": [],
   "source": [
    "### nan to remove\n",
    "if 'nan' in unique_items :\n",
    "    unique_items.remove('nan')\n",
    "### there is no nan in data"
   ]
  },
  {
   "cell_type": "code",
   "execution_count": 12,
   "id": "4e64f764-5f2e-4c73-aa7e-487d95ceedd9",
   "metadata": {},
   "outputs": [],
   "source": [
    "# pip install mlxtend"
   ]
  },
  {
   "cell_type": "code",
   "execution_count": 13,
   "id": "22d83c22-acf4-4a9d-b4ac-8d862296f8eb",
   "metadata": {},
   "outputs": [],
   "source": [
    "# Transform using TransactionEncoder\n",
    "# from mlxtend.preprocessing import TransactionEncoder\n",
    "\n",
    "# te = TransactionEncoder()\n",
    "# te_ary = te.fit(transactions).transform(transactions)"
   ]
  },
  {
   "cell_type": "code",
   "execution_count": 14,
   "id": "1f33397d-0385-43ef-84b6-23d8356a3822",
   "metadata": {},
   "outputs": [
    {
     "name": "stdout",
     "output_type": "stream",
     "text": [
      "      support                                 itemsets\n",
      "0    0.020267                                (almonds)\n",
      "1    0.033200                                (avocado)\n",
      "2    0.010800                         (barbecue sauce)\n",
      "3    0.014267                              (black tea)\n",
      "4    0.011467                             (body spray)\n",
      "..        ...                                      ...\n",
      "254  0.011067       (mineral water, ground beef, milk)\n",
      "255  0.017067  (spaghetti, mineral water, ground beef)\n",
      "256  0.015733         (spaghetti, mineral water, milk)\n",
      "257  0.010267    (spaghetti, mineral water, olive oil)\n",
      "258  0.011467     (spaghetti, mineral water, pancakes)\n",
      "\n",
      "[259 rows x 2 columns]\n"
     ]
    }
   ],
   "source": [
    "# Convert transactions into a one-hot encoded DataFrame\n",
    "one_hot_encoded_df = pd.DataFrame(0,index=range(len(transactions)),columns=unique_items)\n",
    "for i,transaction in enumerate(transactions):\n",
    "    for item in transaction:\n",
    "        one_hot_encoded_df.at[i, item.strip()] = 1\n",
    "# Apply the Apriori algorithm\n",
    "min_support = 0.01  # Minimum support threshold\n",
    "frequent_items = apriori(one_hot_encoded_df, min_support=min_support, use_colnames=True)\n",
    "print(frequent_items)"
   ]
  },
  {
   "cell_type": "code",
   "execution_count": 15,
   "id": "c9787d96-79df-4ea3-ba90-404fd843243c",
   "metadata": {},
   "outputs": [
    {
     "data": {
      "text/html": [
       "<div>\n",
       "<style scoped>\n",
       "    .dataframe tbody tr th:only-of-type {\n",
       "        vertical-align: middle;\n",
       "    }\n",
       "\n",
       "    .dataframe tbody tr th {\n",
       "        vertical-align: top;\n",
       "    }\n",
       "\n",
       "    .dataframe thead th {\n",
       "        text-align: right;\n",
       "    }\n",
       "</style>\n",
       "<table border=\"1\" class=\"dataframe\">\n",
       "  <thead>\n",
       "    <tr style=\"text-align: right;\">\n",
       "      <th></th>\n",
       "      <th>antecedents</th>\n",
       "      <th>consequents</th>\n",
       "      <th>antecedent support</th>\n",
       "      <th>consequent support</th>\n",
       "      <th>support</th>\n",
       "      <th>confidence</th>\n",
       "      <th>lift</th>\n",
       "      <th>representativity</th>\n",
       "      <th>leverage</th>\n",
       "      <th>conviction</th>\n",
       "      <th>zhangs_metric</th>\n",
       "      <th>jaccard</th>\n",
       "      <th>certainty</th>\n",
       "      <th>kulczynski</th>\n",
       "    </tr>\n",
       "  </thead>\n",
       "  <tbody>\n",
       "    <tr>\n",
       "      <th>0</th>\n",
       "      <td>(mineral water)</td>\n",
       "      <td>(avocado)</td>\n",
       "      <td>0.238267</td>\n",
       "      <td>0.033200</td>\n",
       "      <td>0.011467</td>\n",
       "      <td>0.048125</td>\n",
       "      <td>1.449559</td>\n",
       "      <td>1.0</td>\n",
       "      <td>0.003556</td>\n",
       "      <td>1.015680</td>\n",
       "      <td>0.407144</td>\n",
       "      <td>0.044103</td>\n",
       "      <td>0.015438</td>\n",
       "      <td>0.196753</td>\n",
       "    </tr>\n",
       "    <tr>\n",
       "      <th>1</th>\n",
       "      <td>(avocado)</td>\n",
       "      <td>(mineral water)</td>\n",
       "      <td>0.033200</td>\n",
       "      <td>0.238267</td>\n",
       "      <td>0.011467</td>\n",
       "      <td>0.345382</td>\n",
       "      <td>1.449559</td>\n",
       "      <td>1.0</td>\n",
       "      <td>0.003556</td>\n",
       "      <td>1.163629</td>\n",
       "      <td>0.320785</td>\n",
       "      <td>0.044103</td>\n",
       "      <td>0.140620</td>\n",
       "      <td>0.196753</td>\n",
       "    </tr>\n",
       "    <tr>\n",
       "      <th>2</th>\n",
       "      <td>(burgers)</td>\n",
       "      <td>(cake)</td>\n",
       "      <td>0.087200</td>\n",
       "      <td>0.081067</td>\n",
       "      <td>0.011467</td>\n",
       "      <td>0.131498</td>\n",
       "      <td>1.622103</td>\n",
       "      <td>1.0</td>\n",
       "      <td>0.004398</td>\n",
       "      <td>1.058068</td>\n",
       "      <td>0.420154</td>\n",
       "      <td>0.073129</td>\n",
       "      <td>0.054881</td>\n",
       "      <td>0.136473</td>\n",
       "    </tr>\n",
       "    <tr>\n",
       "      <th>3</th>\n",
       "      <td>(cake)</td>\n",
       "      <td>(burgers)</td>\n",
       "      <td>0.081067</td>\n",
       "      <td>0.087200</td>\n",
       "      <td>0.011467</td>\n",
       "      <td>0.141447</td>\n",
       "      <td>1.622103</td>\n",
       "      <td>1.0</td>\n",
       "      <td>0.004398</td>\n",
       "      <td>1.063185</td>\n",
       "      <td>0.417349</td>\n",
       "      <td>0.073129</td>\n",
       "      <td>0.059430</td>\n",
       "      <td>0.136473</td>\n",
       "    </tr>\n",
       "    <tr>\n",
       "      <th>4</th>\n",
       "      <td>(burgers)</td>\n",
       "      <td>(chocolate)</td>\n",
       "      <td>0.087200</td>\n",
       "      <td>0.163867</td>\n",
       "      <td>0.017067</td>\n",
       "      <td>0.195719</td>\n",
       "      <td>1.194377</td>\n",
       "      <td>1.0</td>\n",
       "      <td>0.002777</td>\n",
       "      <td>1.039603</td>\n",
       "      <td>0.178291</td>\n",
       "      <td>0.072934</td>\n",
       "      <td>0.038094</td>\n",
       "      <td>0.149934</td>\n",
       "    </tr>\n",
       "    <tr>\n",
       "      <th>...</th>\n",
       "      <td>...</td>\n",
       "      <td>...</td>\n",
       "      <td>...</td>\n",
       "      <td>...</td>\n",
       "      <td>...</td>\n",
       "      <td>...</td>\n",
       "      <td>...</td>\n",
       "      <td>...</td>\n",
       "      <td>...</td>\n",
       "      <td>...</td>\n",
       "      <td>...</td>\n",
       "      <td>...</td>\n",
       "      <td>...</td>\n",
       "      <td>...</td>\n",
       "    </tr>\n",
       "    <tr>\n",
       "      <th>431</th>\n",
       "      <td>(spaghetti, pancakes)</td>\n",
       "      <td>(mineral water)</td>\n",
       "      <td>0.025200</td>\n",
       "      <td>0.238267</td>\n",
       "      <td>0.011467</td>\n",
       "      <td>0.455026</td>\n",
       "      <td>1.909736</td>\n",
       "      <td>1.0</td>\n",
       "      <td>0.005462</td>\n",
       "      <td>1.397744</td>\n",
       "      <td>0.488682</td>\n",
       "      <td>0.045503</td>\n",
       "      <td>0.284561</td>\n",
       "      <td>0.251576</td>\n",
       "    </tr>\n",
       "    <tr>\n",
       "      <th>432</th>\n",
       "      <td>(mineral water, pancakes)</td>\n",
       "      <td>(spaghetti)</td>\n",
       "      <td>0.033733</td>\n",
       "      <td>0.174133</td>\n",
       "      <td>0.011467</td>\n",
       "      <td>0.339921</td>\n",
       "      <td>1.952073</td>\n",
       "      <td>1.0</td>\n",
       "      <td>0.005593</td>\n",
       "      <td>1.251163</td>\n",
       "      <td>0.504751</td>\n",
       "      <td>0.058384</td>\n",
       "      <td>0.200744</td>\n",
       "      <td>0.202885</td>\n",
       "    </tr>\n",
       "    <tr>\n",
       "      <th>433</th>\n",
       "      <td>(spaghetti)</td>\n",
       "      <td>(mineral water, pancakes)</td>\n",
       "      <td>0.174133</td>\n",
       "      <td>0.033733</td>\n",
       "      <td>0.011467</td>\n",
       "      <td>0.065850</td>\n",
       "      <td>1.952073</td>\n",
       "      <td>1.0</td>\n",
       "      <td>0.005593</td>\n",
       "      <td>1.034381</td>\n",
       "      <td>0.590560</td>\n",
       "      <td>0.058384</td>\n",
       "      <td>0.033238</td>\n",
       "      <td>0.202885</td>\n",
       "    </tr>\n",
       "    <tr>\n",
       "      <th>434</th>\n",
       "      <td>(mineral water)</td>\n",
       "      <td>(spaghetti, pancakes)</td>\n",
       "      <td>0.238267</td>\n",
       "      <td>0.025200</td>\n",
       "      <td>0.011467</td>\n",
       "      <td>0.048125</td>\n",
       "      <td>1.909736</td>\n",
       "      <td>1.0</td>\n",
       "      <td>0.005462</td>\n",
       "      <td>1.024084</td>\n",
       "      <td>0.625373</td>\n",
       "      <td>0.045503</td>\n",
       "      <td>0.023518</td>\n",
       "      <td>0.251576</td>\n",
       "    </tr>\n",
       "    <tr>\n",
       "      <th>435</th>\n",
       "      <td>(pancakes)</td>\n",
       "      <td>(spaghetti, mineral water)</td>\n",
       "      <td>0.095067</td>\n",
       "      <td>0.059733</td>\n",
       "      <td>0.011467</td>\n",
       "      <td>0.120617</td>\n",
       "      <td>2.019260</td>\n",
       "      <td>1.0</td>\n",
       "      <td>0.005788</td>\n",
       "      <td>1.069235</td>\n",
       "      <td>0.557797</td>\n",
       "      <td>0.080000</td>\n",
       "      <td>0.064752</td>\n",
       "      <td>0.156291</td>\n",
       "    </tr>\n",
       "  </tbody>\n",
       "</table>\n",
       "<p>436 rows × 14 columns</p>\n",
       "</div>"
      ],
      "text/plain": [
       "                   antecedents                 consequents  \\\n",
       "0              (mineral water)                   (avocado)   \n",
       "1                    (avocado)             (mineral water)   \n",
       "2                    (burgers)                      (cake)   \n",
       "3                       (cake)                   (burgers)   \n",
       "4                    (burgers)                 (chocolate)   \n",
       "..                         ...                         ...   \n",
       "431      (spaghetti, pancakes)             (mineral water)   \n",
       "432  (mineral water, pancakes)                 (spaghetti)   \n",
       "433                (spaghetti)   (mineral water, pancakes)   \n",
       "434            (mineral water)       (spaghetti, pancakes)   \n",
       "435                 (pancakes)  (spaghetti, mineral water)   \n",
       "\n",
       "     antecedent support  consequent support   support  confidence      lift  \\\n",
       "0              0.238267            0.033200  0.011467    0.048125  1.449559   \n",
       "1              0.033200            0.238267  0.011467    0.345382  1.449559   \n",
       "2              0.087200            0.081067  0.011467    0.131498  1.622103   \n",
       "3              0.081067            0.087200  0.011467    0.141447  1.622103   \n",
       "4              0.087200            0.163867  0.017067    0.195719  1.194377   \n",
       "..                  ...                 ...       ...         ...       ...   \n",
       "431            0.025200            0.238267  0.011467    0.455026  1.909736   \n",
       "432            0.033733            0.174133  0.011467    0.339921  1.952073   \n",
       "433            0.174133            0.033733  0.011467    0.065850  1.952073   \n",
       "434            0.238267            0.025200  0.011467    0.048125  1.909736   \n",
       "435            0.095067            0.059733  0.011467    0.120617  2.019260   \n",
       "\n",
       "     representativity  leverage  conviction  zhangs_metric   jaccard  \\\n",
       "0                 1.0  0.003556    1.015680       0.407144  0.044103   \n",
       "1                 1.0  0.003556    1.163629       0.320785  0.044103   \n",
       "2                 1.0  0.004398    1.058068       0.420154  0.073129   \n",
       "3                 1.0  0.004398    1.063185       0.417349  0.073129   \n",
       "4                 1.0  0.002777    1.039603       0.178291  0.072934   \n",
       "..                ...       ...         ...            ...       ...   \n",
       "431               1.0  0.005462    1.397744       0.488682  0.045503   \n",
       "432               1.0  0.005593    1.251163       0.504751  0.058384   \n",
       "433               1.0  0.005593    1.034381       0.590560  0.058384   \n",
       "434               1.0  0.005462    1.024084       0.625373  0.045503   \n",
       "435               1.0  0.005788    1.069235       0.557797  0.080000   \n",
       "\n",
       "     certainty  kulczynski  \n",
       "0     0.015438    0.196753  \n",
       "1     0.140620    0.196753  \n",
       "2     0.054881    0.136473  \n",
       "3     0.059430    0.136473  \n",
       "4     0.038094    0.149934  \n",
       "..         ...         ...  \n",
       "431   0.284561    0.251576  \n",
       "432   0.200744    0.202885  \n",
       "433   0.033238    0.202885  \n",
       "434   0.023518    0.251576  \n",
       "435   0.064752    0.156291  \n",
       "\n",
       "[436 rows x 14 columns]"
      ]
     },
     "execution_count": 15,
     "metadata": {},
     "output_type": "execute_result"
    }
   ],
   "source": [
    "# Generate rules with min confidence 0.3 and lift > 1\n",
    "rules = association_rules(frequent_items, metric=\"lift\", min_threshold=0.01)\n",
    "rules"
   ]
  },
  {
   "cell_type": "code",
   "execution_count": 16,
   "id": "ec510f04-2efa-49e8-8817-ec1dc38b70e9",
   "metadata": {},
   "outputs": [
    {
     "data": {
      "text/html": [
       "<div>\n",
       "<style scoped>\n",
       "    .dataframe tbody tr th:only-of-type {\n",
       "        vertical-align: middle;\n",
       "    }\n",
       "\n",
       "    .dataframe tbody tr th {\n",
       "        vertical-align: top;\n",
       "    }\n",
       "\n",
       "    .dataframe thead th {\n",
       "        text-align: right;\n",
       "    }\n",
       "</style>\n",
       "<table border=\"1\" class=\"dataframe\">\n",
       "  <thead>\n",
       "    <tr style=\"text-align: right;\">\n",
       "      <th></th>\n",
       "      <th>antecedents</th>\n",
       "      <th>consequents</th>\n",
       "      <th>antecedent support</th>\n",
       "      <th>consequent support</th>\n",
       "      <th>support</th>\n",
       "      <th>confidence</th>\n",
       "      <th>lift</th>\n",
       "      <th>representativity</th>\n",
       "      <th>leverage</th>\n",
       "      <th>conviction</th>\n",
       "      <th>zhangs_metric</th>\n",
       "      <th>jaccard</th>\n",
       "      <th>certainty</th>\n",
       "      <th>kulczynski</th>\n",
       "    </tr>\n",
       "  </thead>\n",
       "  <tbody>\n",
       "    <tr>\n",
       "      <th>242</th>\n",
       "      <td>(herb &amp; pepper)</td>\n",
       "      <td>(ground beef)</td>\n",
       "      <td>0.049467</td>\n",
       "      <td>0.098267</td>\n",
       "      <td>0.016</td>\n",
       "      <td>0.32345</td>\n",
       "      <td>3.291555</td>\n",
       "      <td>1.0</td>\n",
       "      <td>0.011139</td>\n",
       "      <td>1.332841</td>\n",
       "      <td>0.732423</td>\n",
       "      <td>0.121457</td>\n",
       "      <td>0.249723</td>\n",
       "      <td>0.243136</td>\n",
       "    </tr>\n",
       "  </tbody>\n",
       "</table>\n",
       "</div>"
      ],
      "text/plain": [
       "         antecedents    consequents  antecedent support  consequent support  \\\n",
       "242  (herb & pepper)  (ground beef)            0.049467            0.098267   \n",
       "\n",
       "     support  confidence      lift  representativity  leverage  conviction  \\\n",
       "242    0.016     0.32345  3.291555               1.0  0.011139    1.332841   \n",
       "\n",
       "     zhangs_metric   jaccard  certainty  kulczynski  \n",
       "242       0.732423  0.121457   0.249723    0.243136  "
      ]
     },
     "execution_count": 16,
     "metadata": {},
     "output_type": "execute_result"
    }
   ],
   "source": [
    "# Filter rules with higher confidence and lift\n",
    "rules = rules[(rules['confidence'] >= 0.3) & (rules['lift'] >= 3)]\n",
    "\n",
    "# Display top rules\n",
    "rules.sort_values(by='lift', ascending=False)"
   ]
  },
  {
   "cell_type": "code",
   "execution_count": 17,
   "id": "ef051b62-7f13-40e7-99f1-5294dce499cb",
   "metadata": {},
   "outputs": [
    {
     "name": "stdout",
     "output_type": "stream",
     "text": [
      "Frequent Items:\n",
      "       support                                 itemsets\n",
      "0    0.020267                                (almonds)\n",
      "1    0.033200                                (avocado)\n",
      "2    0.010800                         (barbecue sauce)\n",
      "3    0.014267                              (black tea)\n",
      "4    0.011467                             (body spray)\n",
      "..        ...                                      ...\n",
      "254  0.011067       (mineral water, ground beef, milk)\n",
      "255  0.017067  (spaghetti, mineral water, ground beef)\n",
      "256  0.015733         (spaghetti, mineral water, milk)\n",
      "257  0.010267    (spaghetti, mineral water, olive oil)\n",
      "258  0.011467     (spaghetti, mineral water, pancakes)\n",
      "\n",
      "[259 rows x 2 columns]\n",
      "\n",
      "Association Rules:\n",
      "          antecedents    consequents  antecedent support  consequent support  \\\n",
      "242  (herb & pepper)  (ground beef)            0.049467            0.098267   \n",
      "\n",
      "     support  confidence      lift  representativity  leverage  conviction  \\\n",
      "242    0.016     0.32345  3.291555               1.0  0.011139    1.332841   \n",
      "\n",
      "     zhangs_metric   jaccard  certainty  kulczynski  \n",
      "242       0.732423  0.121457   0.249723    0.243136  \n",
      "\n",
      "Top 10 Association Rules:\n",
      "          antecedents    consequents  antecedent support  consequent support  \\\n",
      "242  (herb & pepper)  (ground beef)            0.049467            0.098267   \n",
      "\n",
      "     support  confidence      lift  representativity  leverage  conviction  \\\n",
      "242    0.016     0.32345  3.291555               1.0  0.011139    1.332841   \n",
      "\n",
      "     zhangs_metric   jaccard  certainty  kulczynski  \n",
      "242       0.732423  0.121457   0.249723    0.243136  \n"
     ]
    }
   ],
   "source": [
    "# Display the resulting rules\n",
    "print(\"Frequent Items:\\n\",frequent_items)\n",
    "print(\"\\nAssociation Rules:\\n\",rules)\n",
    "# Analyze the top 10 rules (you can adjust the number)\n",
    "top_rules = rules.head(10) ####  (i.e., the 10 with highest lift)\n",
    "print(\"\\nTop 10 Association Rules:\\n\",top_rules)"
   ]
  },
  {
   "cell_type": "code",
   "execution_count": 18,
   "id": "8427469a-5ecb-42b7-890b-bc9c32cebaab",
   "metadata": {},
   "outputs": [
    {
     "data": {
      "image/png": "[encoded data removed]",
      "text/plain": [
       "<Figure size 1000x600 with 2 Axes>"
      ]
     },
     "metadata": {},
     "output_type": "display_data"
    }
   ],
   "source": [
    "# Assuming 'rules' is your DataFrame containing association rules\n",
    "# You can adjust the plot based on what you want to visualize\n",
    "## Plotting confidence vs. lift\n",
    "plt.figure(figsize=(10, 6))\n",
    "plt.scatter(rules['confidence'], rules['lift'],alpha=0.5,c=rules['support'],cmap='viridis',s=100,edgecolors='k')\n",
    "plt.colorbar(label='Support')\n",
    "plt.xlabel('Confidence')\n",
    "plt.ylabel('Lift')\n",
    "plt.title('Confidence vs. Lift for Association Rules')\n",
    "plt.grid(True)\n",
    "plt.show();"
   ]
  },
  {
   "cell_type": "code",
   "execution_count": 19,
   "id": "5a04dd14-71f7-47f2-9048-b6371f3c201b",
   "metadata": {},
   "outputs": [
    {
     "data": {
      "image/png": "[encoded data removed]",
      "text/plain": [
       "<Figure size 1000x600 with 2 Axes>"
      ]
     },
     "metadata": {},
     "output_type": "display_data"
    }
   ],
   "source": [
    "## Plotting support vs. confidence\n",
    "plt.figure(figsize=(10, 6))\n",
    "plt.scatter(rules['support'], rules['confidence'], alpha=0.5,c=rules['support'],cmap='viridis',s=100,edgecolors='k')\n",
    "plt.colorbar(label='Support')\n",
    "plt.xlabel('Support')\n",
    "plt.ylabel('Confidence')\n",
    "plt.title('Support vs. Confidence for Association Rules')\n",
    "plt.grid(True)\n",
    "plt.show();"
   ]
  },
  {
   "cell_type": "markdown",
   "id": "bebad4df-72a2-4cfa-a951-cc6dfe8f3bb0",
   "metadata": {},
   "source": [
    "# Interview Questions"
   ]
  },
  {
   "cell_type": "markdown",
   "id": "5bddeb2d-4ca2-4bcc-af02-76f54d2d2856",
   "metadata": {},
   "source": [
    "### 1. What is Lift and why is it important in Association Rules?\n",
    "- Lift measures the strength of an association between two items. It shows how much more likely items A and B occur together than if they were independent."
   ]
  },
  {
   "cell_type": "markdown",
   "id": "1f873db7-0921-49bd-b82b-5e37dd208ac3",
   "metadata": {},
   "source": [
    "### 2. What is Support and Confidence? How do you calculate them?\n",
    "-  Support - It tells how frequently a rule or itemset appears in the dataset.\n",
    "- Confidence - It shows the likelihood of buying B given that A was bought."
   ]
  },
  {
   "cell_type": "markdown",
   "id": "b385bbc9-77fe-46a8-8a2b-38aff3c0d2c7",
   "metadata": {},
   "source": [
    "### 3. What are some Limitations or Challenges of Association Rule Mining?\n",
    "- Too many rules: Can generate thousands of rules, many of which are not useful.\n",
    "- Sparse data: Large itemsets but low overlap may yield weak rules.\n",
    "-  Scalability: Becomes computationally expensive for large datasets."
   ]
  },
  {
   "cell_type": "code",
   "execution_count": null,
   "id": "20f70534-9e01-4464-894b-0752d0998c8d",
   "metadata": {},
   "outputs": [],
   "source": []
  }
 ],
 "metadata": {
  "kernelspec": {
   "display_name": "Python [conda env:base] *",
   "language": "python",
   "name": "conda-base-py"
  },
  "language_info": {
   "codemirror_mode": {
    "name": "ipython",
    "version": 3
   },
   "file_extension": ".py",
   "mimetype": "text/x-python",
   "name": "python",
   "nbconvert_exporter": "python",
   "pygments_lexer": "ipython3",
   "version": "3.12.4"
  }
 },
 "nbformat": 4,
 "nbformat_minor": 5
}
